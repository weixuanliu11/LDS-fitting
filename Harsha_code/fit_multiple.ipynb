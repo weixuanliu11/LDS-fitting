{
 "cells": [
  {
   "cell_type": "code",
   "execution_count": 1,
   "metadata": {},
   "outputs": [
    {
     "name": "stderr",
     "output_type": "stream",
     "text": [
      "/Users/harshagurnani/Documents/GitHub/ssm/ssm_fit/lib/python3.10/site-packages/tqdm/auto.py:21: TqdmWarning: IProgress not found. Please update jupyter and ipywidgets. See https://ipywidgets.readthedocs.io/en/stable/user_install.html\n",
      "  from .autonotebook import tqdm as notebook_tqdm\n"
     ]
    }
   ],
   "source": [
    "import data_loaders as dl\n",
    "import numpy as np\n",
    "import LDS_tools as lt\n",
    "\n",
    "import matplotlib.pyplot as plt\n"
   ]
  },
  {
   "cell_type": "code",
   "execution_count": 2,
   "metadata": {},
   "outputs": [],
   "source": [
    "import pynwb\n",
    "from pynwb import NWBHDF5IO"
   ]
  },
  {
   "cell_type": "code",
   "execution_count": 3,
   "metadata": {},
   "outputs": [],
   "source": [
    "file_name='Data/sub-monk-g_ses-session0 (1).nwb'"
   ]
  },
  {
   "cell_type": "code",
   "execution_count": 4,
   "metadata": {},
   "outputs": [],
   "source": [
    "#dic = lt.fit_LDS( file_name, newRate=10, state_dim=8, emission='poisson', save_suffix = 'g_0', use_trials=np.arange(100))"
   ]
  },
  {
   "cell_type": "code",
   "execution_count": 5,
   "metadata": {},
   "outputs": [],
   "source": [
    "all_files = ['Data/sub-monk-g_ses-session0 (1).nwb',\n",
    "             'Data/sub-monk-g_ses-session2.nwb',\n",
    "             'Data/sub-monk-g_ses-session3.nwb',\n",
    "             'Data/sub-monk-g_ses-session4.nwb',\n",
    "             'Data/sub-monk-g_ses-session5.nwb',\n",
    "             'Data/sub-monk-g_ses-session6.nwb']\n",
    "acqrates = [60,   60,    60,    60,   60,     60]\n",
    "newrates = [10,   10,    10,    10,   10,     10]\n",
    "suffix = ['g_0', 'g_2', 'g_3', 'g_4', 'g_5', 'g_6']"
   ]
  },
  {
   "cell_type": "code",
   "execution_count": 6,
   "metadata": {},
   "outputs": [],
   "source": [
    "all_files = ['Data/sub-monk-j_ses-session0.nwb', \n",
    "             'Data/sub-monk-j_ses-session1.nwb',\n",
    "             'Data/sub-monk-j_ses-session2.nwb',\n",
    "             'Data/sub-monk-j_ses-session3.nwb']\n",
    "suffix = ['j_0', 'j_1', 'j_2', 'j_3']\n",
    "acqrates = [200,  200,   200,   200 ]\n",
    "newqrates = [40,   40,    40,    40 ]"
   ]
  },
  {
   "cell_type": "code",
   "execution_count": 27,
   "metadata": {},
   "outputs": [],
   "source": [
    "all_files = ['Data/sub-monk-g_ses-session0 (1).nwb',\n",
    "             'Data/sub-monk-g_ses-session2.nwb',\n",
    "             'Data/sub-monk-g_ses-session3.nwb',\n",
    "             'Data/sub-monk-g_ses-session4.nwb',\n",
    "             'Data/sub-monk-g_ses-session5.nwb',\n",
    "             'Data/sub-monk-g_ses-session6.nwb',\n",
    "             'Data/sub-monk-j_ses-session0.nwb', \n",
    "             'Data/sub-monk-j_ses-session1.nwb',\n",
    "             'Data/sub-monk-j_ses-session2.nwb',\n",
    "             'Data/sub-monk-j_ses-session3.nwb']\n",
    "suffix = ['g_0', 'g_2', 'g_3', 'g_4', 'g_5', 'g_6', 'j_0', 'j_1', 'j_2', 'j_3']\n",
    "acqrates = [60,   60,    60,    60,   60,     60,    200,  200,   200,   200 ]\n",
    "newrates = [10,   10,    10,    10,   10,     10,     40,   40,    40,    40 ]\n",
    "\n",
    "niters=3\n",
    "state_dim=4\n",
    "sd = '_sd4'"
   ]
  },
  {
   "cell_type": "code",
   "execution_count": 8,
   "metadata": {},
   "outputs": [],
   "source": [
    "#dic = lt.fit_LDS( all_files[0], newRate=40, state_dim=8, emission='poisson', save_suffix = 'j_0', use_trials=np.arange(200))"
   ]
  },
  {
   "cell_type": "code",
   "execution_count": 9,
   "metadata": {},
   "outputs": [],
   "source": [
    "use_trial = [0 for jj in range(len(all_files))]\n",
    "for jj in range(len(all_files)):\n",
    "    file_name=all_files[jj]\n",
    "    with NWBHDF5IO( file_name , \"r\") as io:\n",
    "        read_nwbfile = io.read()    \n",
    "        obs = read_nwbfile.processing['behavior']['obstacle_position'].data\n",
    "        \n",
    "        ids=np.where(np.sum(np.abs(obs),axis=1)>0)\n",
    "        trial_num = len(read_nwbfile.trials[\"id\"].data)\n",
    "        start_Index = np.int_(np.zeros(trial_num))\n",
    "        \n",
    "        for trial_id in range(trial_num):  \n",
    "            start_time = read_nwbfile.trials[\"start_time\"].data[trial_id]\n",
    "            start_Index[trial_id] = round(start_time*acqrates[jj] - 1)\n",
    "            \n",
    "        sid = np.where(start_Index>ids[0][0])[0]-1\n",
    "        if len(sid)>1:\n",
    "            use_trial[jj] = sid[0]\n",
    "        else:\n",
    "            use_trial[jj] = trial_num"
   ]
  },
  {
   "cell_type": "code",
   "execution_count": 10,
   "metadata": {},
   "outputs": [
    {
     "data": {
      "text/plain": [
       "[63, 63, 63, 63, 126, 62, 198, 15, 89, 79]"
      ]
     },
     "execution_count": 10,
     "metadata": {},
     "output_type": "execute_result"
    }
   ],
   "source": [
    "use_trial"
   ]
  },
  {
   "cell_type": "code",
   "execution_count": 11,
   "metadata": {},
   "outputs": [
    {
     "data": {
      "text/plain": [
       "\"\\nA = dic['lds'].dynamics.A\\nevalue, evecs = np.linalg.eig( A- np.eye(A.shape[0]))\\nall_eval = []\\necomp = evalue[np.imag(evalue)>0]\\nemax = ecomp[np.real(ecomp)==max(np.real(ecomp))]\\nereal = np.real(emax)\\neimag = np.imag(emax)\\nall_eval.append(emax)\\n\""
      ]
     },
     "execution_count": 11,
     "metadata": {},
     "output_type": "execute_result"
    }
   ],
   "source": [
    "'''\n",
    "A = dic['lds'].dynamics.A\n",
    "evalue, evecs = np.linalg.eig( A- np.eye(A.shape[0]))\n",
    "all_eval = []\n",
    "ecomp = evalue[np.imag(evalue)>0]\n",
    "emax = ecomp[np.real(ecomp)==max(np.real(ecomp))]\n",
    "ereal = np.real(emax)\n",
    "eimag = np.imag(emax)\n",
    "all_eval.append(emax)\n",
    "'''"
   ]
  },
  {
   "cell_type": "code",
   "execution_count": 28,
   "metadata": {},
   "outputs": [
    {
     "name": "stderr",
     "output_type": "stream",
     "text": [
      "/Users/harshagurnani/Documents/GitHub/ssm/ssm_fit/lib/python3.10/site-packages/sklearn/cluster/_kmeans.py:1416: FutureWarning: The default value of `n_init` will change from 10 to 'auto' in 1.4. Set the value of `n_init` explicitly to suppress the warning\n",
      "  super()._check_params_vs_input(X, default_n_init=10)\n",
      "ARHMM Initialization restarts:   0%|          | 0/1 [00:00<?, ?it/s]"
     ]
    },
    {
     "name": "stdout",
     "output_type": "stream",
     "text": [
      "Initializing with an ARHMM using 25 steps of EM.\n"
     ]
    },
    {
     "name": "stderr",
     "output_type": "stream",
     "text": [
      "LP: -53113.6: 100%|██████████| 25/25 [00:02<00:00, 10.44it/s]\n",
      "ARHMM Initialization restarts: 100%|██████████| 1/1 [00:02<00:00,  2.55s/it]\n",
      "ELBO: -147095.6: 100%|██████████| 20/20 [00:35<00:00,  1.77s/it]\n",
      "/Users/harshagurnani/Documents/GitHub/ssm/ssm_fit/lib/python3.10/site-packages/sklearn/cluster/_kmeans.py:1416: FutureWarning: The default value of `n_init` will change from 10 to 'auto' in 1.4. Set the value of `n_init` explicitly to suppress the warning\n",
      "  super()._check_params_vs_input(X, default_n_init=10)\n",
      "ARHMM Initialization restarts:   0%|          | 0/1 [00:00<?, ?it/s]"
     ]
    },
    {
     "name": "stdout",
     "output_type": "stream",
     "text": [
      "Initializing with an ARHMM using 25 steps of EM.\n"
     ]
    },
    {
     "name": "stderr",
     "output_type": "stream",
     "text": [
      "LP: -53104.3: 100%|██████████| 25/25 [00:02<00:00,  8.66it/s]\n",
      "ARHMM Initialization restarts: 100%|██████████| 1/1 [00:03<00:00,  3.07s/it]\n",
      "ELBO: -147157.0: 100%|██████████| 20/20 [00:39<00:00,  1.97s/it]\n",
      "/Users/harshagurnani/Documents/GitHub/ssm/ssm_fit/lib/python3.10/site-packages/sklearn/cluster/_kmeans.py:1416: FutureWarning: The default value of `n_init` will change from 10 to 'auto' in 1.4. Set the value of `n_init` explicitly to suppress the warning\n",
      "  super()._check_params_vs_input(X, default_n_init=10)\n",
      "ARHMM Initialization restarts:   0%|          | 0/1 [00:00<?, ?it/s]"
     ]
    },
    {
     "name": "stdout",
     "output_type": "stream",
     "text": [
      "Initializing with an ARHMM using 25 steps of EM.\n"
     ]
    },
    {
     "name": "stderr",
     "output_type": "stream",
     "text": [
      "LP: -53080.5: 100%|██████████| 25/25 [00:02<00:00, 10.87it/s]\n",
      "ARHMM Initialization restarts: 100%|██████████| 1/1 [00:02<00:00,  2.51s/it]\n",
      "ELBO: -147181.9: 100%|██████████| 20/20 [00:43<00:00,  2.17s/it]\n",
      "/Users/harshagurnani/Documents/GitHub/ssm/ssm_fit/lib/python3.10/site-packages/sklearn/cluster/_kmeans.py:1416: FutureWarning: The default value of `n_init` will change from 10 to 'auto' in 1.4. Set the value of `n_init` explicitly to suppress the warning\n",
      "  super()._check_params_vs_input(X, default_n_init=10)\n",
      "ARHMM Initialization restarts:   0%|          | 0/1 [00:00<?, ?it/s]"
     ]
    },
    {
     "name": "stdout",
     "output_type": "stream",
     "text": [
      "Initializing with an ARHMM using 25 steps of EM.\n"
     ]
    },
    {
     "name": "stderr",
     "output_type": "stream",
     "text": [
      "LP: -38001.9: 100%|██████████| 25/25 [00:02<00:00,  8.38it/s]\n",
      "ARHMM Initialization restarts: 100%|██████████| 1/1 [00:03<00:00,  3.08s/it]\n",
      "ELBO: -188726.8: 100%|██████████| 20/20 [00:50<00:00,  2.54s/it]\n",
      "/var/folders/sb/xhp3vl193vxd7sv2_2mykkq80000gn/T/ipykernel_70548/2829854706.py:14: RuntimeWarning: invalid value encountered in log\n",
      "  eval_ts.append( -(1/newrates[jj])/np.log(1+np.real(ee)) )\n",
      "/Users/harshagurnani/Documents/GitHub/ssm/ssm_fit/lib/python3.10/site-packages/sklearn/cluster/_kmeans.py:1416: FutureWarning: The default value of `n_init` will change from 10 to 'auto' in 1.4. Set the value of `n_init` explicitly to suppress the warning\n",
      "  super()._check_params_vs_input(X, default_n_init=10)\n",
      "ARHMM Initialization restarts:   0%|          | 0/1 [00:00<?, ?it/s]"
     ]
    },
    {
     "name": "stdout",
     "output_type": "stream",
     "text": [
      "Initializing with an ARHMM using 25 steps of EM.\n"
     ]
    },
    {
     "name": "stderr",
     "output_type": "stream",
     "text": [
      "LP: -38003.7: 100%|██████████| 25/25 [00:01<00:00, 13.37it/s]\n",
      "ARHMM Initialization restarts: 100%|██████████| 1/1 [00:02<00:00,  2.08s/it]\n",
      "ELBO: -188540.0: 100%|██████████| 20/20 [00:48<00:00,  2.43s/it]\n",
      "/var/folders/sb/xhp3vl193vxd7sv2_2mykkq80000gn/T/ipykernel_70548/2829854706.py:14: RuntimeWarning: invalid value encountered in log\n",
      "  eval_ts.append( -(1/newrates[jj])/np.log(1+np.real(ee)) )\n",
      "/Users/harshagurnani/Documents/GitHub/ssm/ssm_fit/lib/python3.10/site-packages/sklearn/cluster/_kmeans.py:1416: FutureWarning: The default value of `n_init` will change from 10 to 'auto' in 1.4. Set the value of `n_init` explicitly to suppress the warning\n",
      "  super()._check_params_vs_input(X, default_n_init=10)\n",
      "ARHMM Initialization restarts:   0%|          | 0/1 [00:00<?, ?it/s]"
     ]
    },
    {
     "name": "stdout",
     "output_type": "stream",
     "text": [
      "Initializing with an ARHMM using 25 steps of EM.\n"
     ]
    },
    {
     "name": "stderr",
     "output_type": "stream",
     "text": [
      "LP: -38002.9: 100%|██████████| 25/25 [00:04<00:00,  6.16it/s]\n",
      "ARHMM Initialization restarts: 100%|██████████| 1/1 [00:04<00:00,  4.22s/it]\n",
      "ELBO: -188756.5: 100%|██████████| 20/20 [00:45<00:00,  2.25s/it]\n",
      "/var/folders/sb/xhp3vl193vxd7sv2_2mykkq80000gn/T/ipykernel_70548/2829854706.py:14: RuntimeWarning: invalid value encountered in log\n",
      "  eval_ts.append( -(1/newrates[jj])/np.log(1+np.real(ee)) )\n",
      "/Users/harshagurnani/Documents/GitHub/ssm/ssm_fit/lib/python3.10/site-packages/sklearn/cluster/_kmeans.py:1416: FutureWarning: The default value of `n_init` will change from 10 to 'auto' in 1.4. Set the value of `n_init` explicitly to suppress the warning\n",
      "  super()._check_params_vs_input(X, default_n_init=10)\n",
      "ARHMM Initialization restarts:   0%|          | 0/1 [00:00<?, ?it/s]"
     ]
    },
    {
     "name": "stdout",
     "output_type": "stream",
     "text": [
      "Initializing with an ARHMM using 25 steps of EM.\n"
     ]
    },
    {
     "name": "stderr",
     "output_type": "stream",
     "text": [
      "LP: -37539.1: 100%|██████████| 25/25 [00:03<00:00,  7.52it/s]\n",
      "ARHMM Initialization restarts: 100%|██████████| 1/1 [00:03<00:00,  3.37s/it]\n",
      "ELBO: -105958.6: 100%|██████████| 20/20 [00:38<00:00,  1.92s/it]\n",
      "/Users/harshagurnani/Documents/GitHub/ssm/ssm_fit/lib/python3.10/site-packages/sklearn/cluster/_kmeans.py:1416: FutureWarning: The default value of `n_init` will change from 10 to 'auto' in 1.4. Set the value of `n_init` explicitly to suppress the warning\n",
      "  super()._check_params_vs_input(X, default_n_init=10)\n",
      "ARHMM Initialization restarts:   0%|          | 0/1 [00:00<?, ?it/s]"
     ]
    },
    {
     "name": "stdout",
     "output_type": "stream",
     "text": [
      "Initializing with an ARHMM using 25 steps of EM.\n"
     ]
    },
    {
     "name": "stderr",
     "output_type": "stream",
     "text": [
      "LP: -37568.4: 100%|██████████| 25/25 [00:01<00:00, 13.11it/s]\n",
      "ARHMM Initialization restarts: 100%|██████████| 1/1 [00:02<00:00,  2.00s/it]\n",
      "ELBO: -106097.4: 100%|██████████| 20/20 [00:37<00:00,  1.87s/it]\n",
      "/Users/harshagurnani/Documents/GitHub/ssm/ssm_fit/lib/python3.10/site-packages/sklearn/cluster/_kmeans.py:1416: FutureWarning: The default value of `n_init` will change from 10 to 'auto' in 1.4. Set the value of `n_init` explicitly to suppress the warning\n",
      "  super()._check_params_vs_input(X, default_n_init=10)\n",
      "ARHMM Initialization restarts:   0%|          | 0/1 [00:00<?, ?it/s]"
     ]
    },
    {
     "name": "stdout",
     "output_type": "stream",
     "text": [
      "Initializing with an ARHMM using 25 steps of EM.\n"
     ]
    },
    {
     "name": "stderr",
     "output_type": "stream",
     "text": [
      "LP: -37557.6: 100%|██████████| 25/25 [00:04<00:00,  6.15it/s]\n",
      "ARHMM Initialization restarts: 100%|██████████| 1/1 [00:04<00:00,  4.30s/it]\n",
      "ELBO: -106091.2: 100%|██████████| 20/20 [00:35<00:00,  1.79s/it]\n",
      "/Users/harshagurnani/Documents/GitHub/ssm/ssm_fit/lib/python3.10/site-packages/sklearn/cluster/_kmeans.py:1416: FutureWarning: The default value of `n_init` will change from 10 to 'auto' in 1.4. Set the value of `n_init` explicitly to suppress the warning\n",
      "  super()._check_params_vs_input(X, default_n_init=10)\n",
      "ARHMM Initialization restarts:   0%|          | 0/1 [00:00<?, ?it/s]"
     ]
    },
    {
     "name": "stdout",
     "output_type": "stream",
     "text": [
      "Initializing with an ARHMM using 25 steps of EM.\n"
     ]
    },
    {
     "name": "stderr",
     "output_type": "stream",
     "text": [
      "LP: -44132.2: 100%|██████████| 25/25 [00:04<00:00,  5.97it/s]\n",
      "ARHMM Initialization restarts: 100%|██████████| 1/1 [00:04<00:00,  4.32s/it]\n",
      "ELBO: -245412.4: 100%|██████████| 20/20 [00:54<00:00,  2.74s/it]\n",
      "/var/folders/sb/xhp3vl193vxd7sv2_2mykkq80000gn/T/ipykernel_70548/2829854706.py:14: RuntimeWarning: invalid value encountered in log\n",
      "  eval_ts.append( -(1/newrates[jj])/np.log(1+np.real(ee)) )\n",
      "/Users/harshagurnani/Documents/GitHub/ssm/ssm_fit/lib/python3.10/site-packages/sklearn/cluster/_kmeans.py:1416: FutureWarning: The default value of `n_init` will change from 10 to 'auto' in 1.4. Set the value of `n_init` explicitly to suppress the warning\n",
      "  super()._check_params_vs_input(X, default_n_init=10)\n",
      "ARHMM Initialization restarts:   0%|          | 0/1 [00:00<?, ?it/s]"
     ]
    },
    {
     "name": "stdout",
     "output_type": "stream",
     "text": [
      "Initializing with an ARHMM using 25 steps of EM.\n"
     ]
    },
    {
     "name": "stderr",
     "output_type": "stream",
     "text": [
      "LP: -44149.4: 100%|██████████| 25/25 [00:03<00:00,  8.18it/s]\n",
      "ARHMM Initialization restarts: 100%|██████████| 1/1 [00:03<00:00,  3.18s/it]\n",
      "ELBO: -245378.1: 100%|██████████| 20/20 [00:44<00:00,  2.23s/it]\n",
      "/var/folders/sb/xhp3vl193vxd7sv2_2mykkq80000gn/T/ipykernel_70548/2829854706.py:14: RuntimeWarning: invalid value encountered in log\n",
      "  eval_ts.append( -(1/newrates[jj])/np.log(1+np.real(ee)) )\n",
      "/Users/harshagurnani/Documents/GitHub/ssm/ssm_fit/lib/python3.10/site-packages/sklearn/cluster/_kmeans.py:1416: FutureWarning: The default value of `n_init` will change from 10 to 'auto' in 1.4. Set the value of `n_init` explicitly to suppress the warning\n",
      "  super()._check_params_vs_input(X, default_n_init=10)\n",
      "ARHMM Initialization restarts:   0%|          | 0/1 [00:00<?, ?it/s]"
     ]
    },
    {
     "name": "stdout",
     "output_type": "stream",
     "text": [
      "Initializing with an ARHMM using 25 steps of EM.\n"
     ]
    },
    {
     "name": "stderr",
     "output_type": "stream",
     "text": [
      "LP: -44171.0: 100%|██████████| 25/25 [00:03<00:00,  7.70it/s]\n",
      "ARHMM Initialization restarts: 100%|██████████| 1/1 [00:03<00:00,  3.45s/it]\n",
      "ELBO: -245303.2: 100%|██████████| 20/20 [00:44<00:00,  2.24s/it]\n",
      "/var/folders/sb/xhp3vl193vxd7sv2_2mykkq80000gn/T/ipykernel_70548/2829854706.py:14: RuntimeWarning: invalid value encountered in log\n",
      "  eval_ts.append( -(1/newrates[jj])/np.log(1+np.real(ee)) )\n",
      "/Users/harshagurnani/Documents/GitHub/ssm/ssm_fit/lib/python3.10/site-packages/sklearn/cluster/_kmeans.py:1416: FutureWarning: The default value of `n_init` will change from 10 to 'auto' in 1.4. Set the value of `n_init` explicitly to suppress the warning\n",
      "  super()._check_params_vs_input(X, default_n_init=10)\n",
      "ARHMM Initialization restarts:   0%|          | 0/1 [00:00<?, ?it/s]"
     ]
    },
    {
     "name": "stdout",
     "output_type": "stream",
     "text": [
      "Initializing with an ARHMM using 25 steps of EM.\n"
     ]
    },
    {
     "name": "stderr",
     "output_type": "stream",
     "text": [
      "LP: -99162.2: 100%|██████████| 25/25 [00:05<00:00,  4.71it/s]\n",
      "ARHMM Initialization restarts: 100%|██████████| 1/1 [00:05<00:00,  5.47s/it]\n",
      "ELBO: -257682.0: 100%|██████████| 20/20 [00:51<00:00,  2.59s/it]\n",
      "/Users/harshagurnani/Documents/GitHub/ssm/ssm_fit/lib/python3.10/site-packages/sklearn/cluster/_kmeans.py:1416: FutureWarning: The default value of `n_init` will change from 10 to 'auto' in 1.4. Set the value of `n_init` explicitly to suppress the warning\n",
      "  super()._check_params_vs_input(X, default_n_init=10)\n",
      "ARHMM Initialization restarts:   0%|          | 0/1 [00:00<?, ?it/s]"
     ]
    },
    {
     "name": "stdout",
     "output_type": "stream",
     "text": [
      "Initializing with an ARHMM using 25 steps of EM.\n"
     ]
    },
    {
     "name": "stderr",
     "output_type": "stream",
     "text": [
      "LP: -99140.4: 100%|██████████| 25/25 [00:04<00:00,  5.30it/s]\n",
      "ARHMM Initialization restarts: 100%|██████████| 1/1 [00:04<00:00,  4.98s/it]\n",
      "ELBO: -258025.4: 100%|██████████| 20/20 [00:49<00:00,  2.49s/it]\n",
      "/Users/harshagurnani/Documents/GitHub/ssm/ssm_fit/lib/python3.10/site-packages/sklearn/cluster/_kmeans.py:1416: FutureWarning: The default value of `n_init` will change from 10 to 'auto' in 1.4. Set the value of `n_init` explicitly to suppress the warning\n",
      "  super()._check_params_vs_input(X, default_n_init=10)\n",
      "ARHMM Initialization restarts:   0%|          | 0/1 [00:00<?, ?it/s]"
     ]
    },
    {
     "name": "stdout",
     "output_type": "stream",
     "text": [
      "Initializing with an ARHMM using 25 steps of EM.\n"
     ]
    },
    {
     "name": "stderr",
     "output_type": "stream",
     "text": [
      "LP: -99105.9: 100%|██████████| 25/25 [00:04<00:00,  5.26it/s]\n",
      "ARHMM Initialization restarts: 100%|██████████| 1/1 [00:04<00:00,  4.93s/it]\n",
      "ELBO: -257685.2: 100%|██████████| 20/20 [00:50<00:00,  2.54s/it]\n",
      "/Users/harshagurnani/Documents/GitHub/ssm/ssm_fit/lib/python3.10/site-packages/sklearn/cluster/_kmeans.py:1416: FutureWarning: The default value of `n_init` will change from 10 to 'auto' in 1.4. Set the value of `n_init` explicitly to suppress the warning\n",
      "  super()._check_params_vs_input(X, default_n_init=10)\n",
      "ARHMM Initialization restarts:   0%|          | 0/1 [00:00<?, ?it/s]"
     ]
    },
    {
     "name": "stdout",
     "output_type": "stream",
     "text": [
      "Initializing with an ARHMM using 25 steps of EM.\n"
     ]
    },
    {
     "name": "stderr",
     "output_type": "stream",
     "text": [
      "LP: -61787.2: 100%|██████████| 25/25 [00:03<00:00,  7.67it/s]\n",
      "ARHMM Initialization restarts: 100%|██████████| 1/1 [00:03<00:00,  3.38s/it]\n",
      "ELBO: -138917.2: 100%|██████████| 20/20 [00:38<00:00,  1.91s/it]\n",
      "/Users/harshagurnani/Documents/GitHub/ssm/ssm_fit/lib/python3.10/site-packages/sklearn/cluster/_kmeans.py:1416: FutureWarning: The default value of `n_init` will change from 10 to 'auto' in 1.4. Set the value of `n_init` explicitly to suppress the warning\n",
      "  super()._check_params_vs_input(X, default_n_init=10)\n",
      "ARHMM Initialization restarts:   0%|          | 0/1 [00:00<?, ?it/s]"
     ]
    },
    {
     "name": "stdout",
     "output_type": "stream",
     "text": [
      "Initializing with an ARHMM using 25 steps of EM.\n"
     ]
    },
    {
     "name": "stderr",
     "output_type": "stream",
     "text": [
      "LP: -61787.7: 100%|██████████| 25/25 [00:03<00:00,  8.01it/s]\n",
      "ARHMM Initialization restarts: 100%|██████████| 1/1 [00:03<00:00,  3.29s/it]\n",
      "ELBO: -139013.7: 100%|██████████| 20/20 [00:36<00:00,  1.84s/it]\n",
      "/Users/harshagurnani/Documents/GitHub/ssm/ssm_fit/lib/python3.10/site-packages/sklearn/cluster/_kmeans.py:1416: FutureWarning: The default value of `n_init` will change from 10 to 'auto' in 1.4. Set the value of `n_init` explicitly to suppress the warning\n",
      "  super()._check_params_vs_input(X, default_n_init=10)\n",
      "ARHMM Initialization restarts:   0%|          | 0/1 [00:00<?, ?it/s]"
     ]
    },
    {
     "name": "stdout",
     "output_type": "stream",
     "text": [
      "Initializing with an ARHMM using 25 steps of EM.\n"
     ]
    },
    {
     "name": "stderr",
     "output_type": "stream",
     "text": [
      "LP: -61764.8: 100%|██████████| 25/25 [00:03<00:00,  7.92it/s]\n",
      "ARHMM Initialization restarts: 100%|██████████| 1/1 [00:03<00:00,  3.24s/it]\n",
      "ELBO: -139046.0: 100%|██████████| 20/20 [00:38<00:00,  1.92s/it]\n",
      "/Users/harshagurnani/Documents/GitHub/ssm/ssm_fit/lib/python3.10/site-packages/sklearn/cluster/_kmeans.py:1416: FutureWarning: The default value of `n_init` will change from 10 to 'auto' in 1.4. Set the value of `n_init` explicitly to suppress the warning\n",
      "  super()._check_params_vs_input(X, default_n_init=10)\n",
      "ARHMM Initialization restarts:   0%|          | 0/1 [00:00<?, ?it/s]"
     ]
    },
    {
     "name": "stdout",
     "output_type": "stream",
     "text": [
      "Initializing with an ARHMM using 25 steps of EM.\n"
     ]
    },
    {
     "name": "stderr",
     "output_type": "stream",
     "text": [
      "LP: -360276.6: 100%|██████████| 25/25 [00:06<00:00,  3.70it/s]\n",
      "ARHMM Initialization restarts: 100%|██████████| 1/1 [00:07<00:00,  7.05s/it]\n",
      "ELBO: -212599.9: 100%|██████████| 20/20 [02:05<00:00,  6.28s/it]\n",
      "/var/folders/sb/xhp3vl193vxd7sv2_2mykkq80000gn/T/ipykernel_70548/2829854706.py:14: RuntimeWarning: invalid value encountered in log\n",
      "  eval_ts.append( -(1/newrates[jj])/np.log(1+np.real(ee)) )\n",
      "/Users/harshagurnani/Documents/GitHub/ssm/ssm_fit/lib/python3.10/site-packages/sklearn/cluster/_kmeans.py:1416: FutureWarning: The default value of `n_init` will change from 10 to 'auto' in 1.4. Set the value of `n_init` explicitly to suppress the warning\n",
      "  super()._check_params_vs_input(X, default_n_init=10)\n",
      "ARHMM Initialization restarts:   0%|          | 0/1 [00:00<?, ?it/s]"
     ]
    },
    {
     "name": "stdout",
     "output_type": "stream",
     "text": [
      "Initializing with an ARHMM using 25 steps of EM.\n"
     ]
    },
    {
     "name": "stderr",
     "output_type": "stream",
     "text": [
      "LP: -360276.6: 100%|██████████| 25/25 [00:05<00:00,  4.85it/s]\n",
      "ARHMM Initialization restarts: 100%|██████████| 1/1 [00:05<00:00,  5.47s/it]\n",
      "ELBO: -212618.5: 100%|██████████| 20/20 [02:33<00:00,  7.69s/it]\n",
      "/var/folders/sb/xhp3vl193vxd7sv2_2mykkq80000gn/T/ipykernel_70548/2829854706.py:14: RuntimeWarning: invalid value encountered in log\n",
      "  eval_ts.append( -(1/newrates[jj])/np.log(1+np.real(ee)) )\n",
      "/Users/harshagurnani/Documents/GitHub/ssm/ssm_fit/lib/python3.10/site-packages/sklearn/cluster/_kmeans.py:1416: FutureWarning: The default value of `n_init` will change from 10 to 'auto' in 1.4. Set the value of `n_init` explicitly to suppress the warning\n",
      "  super()._check_params_vs_input(X, default_n_init=10)\n",
      "ARHMM Initialization restarts:   0%|          | 0/1 [00:00<?, ?it/s]"
     ]
    },
    {
     "name": "stdout",
     "output_type": "stream",
     "text": [
      "Initializing with an ARHMM using 25 steps of EM.\n"
     ]
    },
    {
     "name": "stderr",
     "output_type": "stream",
     "text": [
      "LP: -360276.6: 100%|██████████| 25/25 [00:05<00:00,  4.36it/s]\n",
      "ARHMM Initialization restarts: 100%|██████████| 1/1 [00:05<00:00,  5.96s/it]\n",
      "ELBO: -211761.0: 100%|██████████| 20/20 [01:59<00:00,  5.95s/it]\n",
      "/var/folders/sb/xhp3vl193vxd7sv2_2mykkq80000gn/T/ipykernel_70548/2829854706.py:14: RuntimeWarning: invalid value encountered in log\n",
      "  eval_ts.append( -(1/newrates[jj])/np.log(1+np.real(ee)) )\n",
      "/Users/harshagurnani/Documents/GitHub/ssm/ssm_fit/lib/python3.10/site-packages/sklearn/cluster/_kmeans.py:1416: FutureWarning: The default value of `n_init` will change from 10 to 'auto' in 1.4. Set the value of `n_init` explicitly to suppress the warning\n",
      "  super()._check_params_vs_input(X, default_n_init=10)\n",
      "ARHMM Initialization restarts:   0%|          | 0/1 [00:00<?, ?it/s]"
     ]
    },
    {
     "name": "stdout",
     "output_type": "stream",
     "text": [
      "Initializing with an ARHMM using 25 steps of EM.\n"
     ]
    },
    {
     "name": "stderr",
     "output_type": "stream",
     "text": [
      "LP: -50089.9: 100%|██████████| 25/25 [00:02<00:00,  9.92it/s]\n",
      "ARHMM Initialization restarts: 100%|██████████| 1/1 [00:02<00:00,  2.60s/it]\n",
      "ELBO: -32221.1: 100%|██████████| 20/20 [00:31<00:00,  1.59s/it]\n",
      "/var/folders/sb/xhp3vl193vxd7sv2_2mykkq80000gn/T/ipykernel_70548/2829854706.py:14: RuntimeWarning: invalid value encountered in log\n",
      "  eval_ts.append( -(1/newrates[jj])/np.log(1+np.real(ee)) )\n",
      "/Users/harshagurnani/Documents/GitHub/ssm/ssm_fit/lib/python3.10/site-packages/sklearn/cluster/_kmeans.py:1416: FutureWarning: The default value of `n_init` will change from 10 to 'auto' in 1.4. Set the value of `n_init` explicitly to suppress the warning\n",
      "  super()._check_params_vs_input(X, default_n_init=10)\n",
      "ARHMM Initialization restarts:   0%|          | 0/1 [00:00<?, ?it/s]"
     ]
    },
    {
     "name": "stdout",
     "output_type": "stream",
     "text": [
      "Initializing with an ARHMM using 25 steps of EM.\n"
     ]
    },
    {
     "name": "stderr",
     "output_type": "stream",
     "text": [
      "LP: -50089.9: 100%|██████████| 25/25 [00:02<00:00,  9.58it/s]\n",
      "ARHMM Initialization restarts: 100%|██████████| 1/1 [00:02<00:00,  2.80s/it]\n",
      "ELBO: -32410.8: 100%|██████████| 20/20 [00:31<00:00,  1.59s/it]\n",
      "/var/folders/sb/xhp3vl193vxd7sv2_2mykkq80000gn/T/ipykernel_70548/2829854706.py:14: RuntimeWarning: invalid value encountered in log\n",
      "  eval_ts.append( -(1/newrates[jj])/np.log(1+np.real(ee)) )\n",
      "/Users/harshagurnani/Documents/GitHub/ssm/ssm_fit/lib/python3.10/site-packages/sklearn/cluster/_kmeans.py:1416: FutureWarning: The default value of `n_init` will change from 10 to 'auto' in 1.4. Set the value of `n_init` explicitly to suppress the warning\n",
      "  super()._check_params_vs_input(X, default_n_init=10)\n",
      "ARHMM Initialization restarts:   0%|          | 0/1 [00:00<?, ?it/s]"
     ]
    },
    {
     "name": "stdout",
     "output_type": "stream",
     "text": [
      "Initializing with an ARHMM using 25 steps of EM.\n"
     ]
    },
    {
     "name": "stderr",
     "output_type": "stream",
     "text": [
      "LP: -50089.9: 100%|██████████| 25/25 [00:02<00:00, 10.03it/s]\n",
      "ARHMM Initialization restarts: 100%|██████████| 1/1 [00:02<00:00,  2.57s/it]\n",
      "ELBO: -32361.3: 100%|██████████| 20/20 [00:30<00:00,  1.54s/it]\n",
      "/var/folders/sb/xhp3vl193vxd7sv2_2mykkq80000gn/T/ipykernel_70548/2829854706.py:14: RuntimeWarning: invalid value encountered in log\n",
      "  eval_ts.append( -(1/newrates[jj])/np.log(1+np.real(ee)) )\n",
      "/Users/harshagurnani/Documents/GitHub/ssm/ssm_fit/lib/python3.10/site-packages/sklearn/cluster/_kmeans.py:1416: FutureWarning: The default value of `n_init` will change from 10 to 'auto' in 1.4. Set the value of `n_init` explicitly to suppress the warning\n",
      "  super()._check_params_vs_input(X, default_n_init=10)\n",
      "ARHMM Initialization restarts:   0%|          | 0/1 [00:00<?, ?it/s]"
     ]
    },
    {
     "name": "stdout",
     "output_type": "stream",
     "text": [
      "Initializing with an ARHMM using 25 steps of EM.\n"
     ]
    },
    {
     "name": "stderr",
     "output_type": "stream",
     "text": [
      "LP: -174322.2: 100%|██████████| 25/25 [00:04<00:00,  5.85it/s]\n",
      "ARHMM Initialization restarts: 100%|██████████| 1/1 [00:04<00:00,  4.66s/it]\n",
      "ELBO: -104995.0: 100%|██████████| 20/20 [01:12<00:00,  3.65s/it]\n",
      "/var/folders/sb/xhp3vl193vxd7sv2_2mykkq80000gn/T/ipykernel_70548/2829854706.py:14: RuntimeWarning: invalid value encountered in log\n",
      "  eval_ts.append( -(1/newrates[jj])/np.log(1+np.real(ee)) )\n",
      "/Users/harshagurnani/Documents/GitHub/ssm/ssm_fit/lib/python3.10/site-packages/sklearn/cluster/_kmeans.py:1416: FutureWarning: The default value of `n_init` will change from 10 to 'auto' in 1.4. Set the value of `n_init` explicitly to suppress the warning\n",
      "  super()._check_params_vs_input(X, default_n_init=10)\n",
      "ARHMM Initialization restarts:   0%|          | 0/1 [00:00<?, ?it/s]"
     ]
    },
    {
     "name": "stdout",
     "output_type": "stream",
     "text": [
      "Initializing with an ARHMM using 25 steps of EM.\n"
     ]
    },
    {
     "name": "stderr",
     "output_type": "stream",
     "text": [
      "LP: -174321.9: 100%|██████████| 25/25 [00:04<00:00,  5.67it/s]\n",
      "ARHMM Initialization restarts: 100%|██████████| 1/1 [00:04<00:00,  4.59s/it]\n",
      "ELBO: -104643.4: 100%|██████████| 20/20 [01:12<00:00,  3.61s/it]\n",
      "/var/folders/sb/xhp3vl193vxd7sv2_2mykkq80000gn/T/ipykernel_70548/2829854706.py:14: RuntimeWarning: invalid value encountered in log\n",
      "  eval_ts.append( -(1/newrates[jj])/np.log(1+np.real(ee)) )\n",
      "/Users/harshagurnani/Documents/GitHub/ssm/ssm_fit/lib/python3.10/site-packages/sklearn/cluster/_kmeans.py:1416: FutureWarning: The default value of `n_init` will change from 10 to 'auto' in 1.4. Set the value of `n_init` explicitly to suppress the warning\n",
      "  super()._check_params_vs_input(X, default_n_init=10)\n",
      "ARHMM Initialization restarts:   0%|          | 0/1 [00:00<?, ?it/s]"
     ]
    },
    {
     "name": "stdout",
     "output_type": "stream",
     "text": [
      "Initializing with an ARHMM using 25 steps of EM.\n"
     ]
    },
    {
     "name": "stderr",
     "output_type": "stream",
     "text": [
      "LP: -174322.2: 100%|██████████| 25/25 [00:04<00:00,  5.27it/s]\n",
      "ARHMM Initialization restarts: 100%|██████████| 1/1 [00:04<00:00,  4.98s/it]\n",
      "ELBO: -104771.0: 100%|██████████| 20/20 [01:11<00:00,  3.58s/it]\n",
      "/var/folders/sb/xhp3vl193vxd7sv2_2mykkq80000gn/T/ipykernel_70548/2829854706.py:14: RuntimeWarning: invalid value encountered in log\n",
      "  eval_ts.append( -(1/newrates[jj])/np.log(1+np.real(ee)) )\n",
      "/Users/harshagurnani/Documents/GitHub/ssm/ssm_fit/lib/python3.10/site-packages/sklearn/cluster/_kmeans.py:1416: FutureWarning: The default value of `n_init` will change from 10 to 'auto' in 1.4. Set the value of `n_init` explicitly to suppress the warning\n",
      "  super()._check_params_vs_input(X, default_n_init=10)\n",
      "ARHMM Initialization restarts:   0%|          | 0/1 [00:00<?, ?it/s]"
     ]
    },
    {
     "name": "stdout",
     "output_type": "stream",
     "text": [
      "Initializing with an ARHMM using 25 steps of EM.\n"
     ]
    },
    {
     "name": "stderr",
     "output_type": "stream",
     "text": [
      "LP: -147023.3: 100%|██████████| 25/25 [00:04<00:00,  5.63it/s]\n",
      "ARHMM Initialization restarts: 100%|██████████| 1/1 [00:04<00:00,  4.59s/it]\n",
      "ELBO: -72997.5: 100%|██████████| 20/20 [01:16<00:00,  3.81s/it]\n",
      "/var/folders/sb/xhp3vl193vxd7sv2_2mykkq80000gn/T/ipykernel_70548/2829854706.py:14: RuntimeWarning: invalid value encountered in log\n",
      "  eval_ts.append( -(1/newrates[jj])/np.log(1+np.real(ee)) )\n",
      "/Users/harshagurnani/Documents/GitHub/ssm/ssm_fit/lib/python3.10/site-packages/sklearn/cluster/_kmeans.py:1416: FutureWarning: The default value of `n_init` will change from 10 to 'auto' in 1.4. Set the value of `n_init` explicitly to suppress the warning\n",
      "  super()._check_params_vs_input(X, default_n_init=10)\n",
      "ARHMM Initialization restarts:   0%|          | 0/1 [00:00<?, ?it/s]"
     ]
    },
    {
     "name": "stdout",
     "output_type": "stream",
     "text": [
      "Initializing with an ARHMM using 25 steps of EM.\n"
     ]
    },
    {
     "name": "stderr",
     "output_type": "stream",
     "text": [
      "LP: -147023.2: 100%|██████████| 25/25 [00:04<00:00,  5.37it/s]\n",
      "ARHMM Initialization restarts: 100%|██████████| 1/1 [00:04<00:00,  4.89s/it]\n",
      "ELBO: -73123.2: 100%|██████████| 20/20 [01:15<00:00,  3.78s/it]\n",
      "/var/folders/sb/xhp3vl193vxd7sv2_2mykkq80000gn/T/ipykernel_70548/2829854706.py:14: RuntimeWarning: invalid value encountered in log\n",
      "  eval_ts.append( -(1/newrates[jj])/np.log(1+np.real(ee)) )\n",
      "/Users/harshagurnani/Documents/GitHub/ssm/ssm_fit/lib/python3.10/site-packages/sklearn/cluster/_kmeans.py:1416: FutureWarning: The default value of `n_init` will change from 10 to 'auto' in 1.4. Set the value of `n_init` explicitly to suppress the warning\n",
      "  super()._check_params_vs_input(X, default_n_init=10)\n",
      "ARHMM Initialization restarts:   0%|          | 0/1 [00:00<?, ?it/s]"
     ]
    },
    {
     "name": "stdout",
     "output_type": "stream",
     "text": [
      "Initializing with an ARHMM using 25 steps of EM.\n"
     ]
    },
    {
     "name": "stderr",
     "output_type": "stream",
     "text": [
      "LP: -147023.2: 100%|██████████| 25/25 [00:04<00:00,  5.40it/s]\n",
      "ARHMM Initialization restarts: 100%|██████████| 1/1 [00:04<00:00,  4.90s/it]\n",
      "ELBO: -72663.9: 100%|██████████| 20/20 [01:15<00:00,  3.77s/it]\n",
      "/var/folders/sb/xhp3vl193vxd7sv2_2mykkq80000gn/T/ipykernel_70548/2829854706.py:14: RuntimeWarning: invalid value encountered in log\n",
      "  eval_ts.append( -(1/newrates[jj])/np.log(1+np.real(ee)) )\n"
     ]
    }
   ],
   "source": [
    "all_eval_freq=[]     # frequency\n",
    "all_eval_ts = []     # timescale\n",
    "eval_ts = []    # timescale\n",
    "\n",
    "#use_trials  = np.arange(100)\n",
    "for jj in range(len(all_files)):\n",
    "    for iters in range(niters):\n",
    "        dic_new = lt.fit_LDS( all_files[jj], acqRate=acqrates[jj], newRate=newrates[jj], state_dim=state_dim, emission='poisson', save_suffix = suffix[jj], use_trials=np.arange(use_trial[jj]))\n",
    "        A = dic_new['lds'].dynamics.A\n",
    "        evalue, evecs = np.linalg.eig( A- np.eye(A.shape[0]))\n",
    "        ecomp = evalue[np.imag(evalue)>0]\n",
    "        ereal = evalue[np.imag(evalue)>=0]\n",
    "        for ee in ereal:\n",
    "            eval_ts.append( -(1/newrates[jj])/np.log(1+np.real(ee)) )\n",
    "        if len(ecomp)>0:\n",
    "            emax = ecomp[np.real(ecomp)==max(np.real(ecomp))]\n",
    "            all_eval_freq.append( np.imag(emax)/(1/newrates[jj]) )\n",
    "            all_eval_ts.append( -(1/newrates[jj])/np.log(1+np.real(emax)) )\n",
    "\n"
   ]
  },
  {
   "cell_type": "code",
   "execution_count": 13,
   "metadata": {},
   "outputs": [
    {
     "data": {
      "text/plain": [
       "[array([0.75327961]),\n",
       " array([0.89647127]),\n",
       " array([1.10708006]),\n",
       " array([1.04812319]),\n",
       " array([1.73819822]),\n",
       " array([0.89007352]),\n",
       " array([1.18849549]),\n",
       " array([0.23381822])]"
      ]
     },
     "execution_count": 13,
     "metadata": {},
     "output_type": "execute_result"
    }
   ],
   "source": [
    "all_eval_freq"
   ]
  },
  {
   "cell_type": "code",
   "execution_count": 14,
   "metadata": {},
   "outputs": [
    {
     "data": {
      "text/plain": [
       "<matplotlib.collections.PathCollection at 0x167fbdb40>"
      ]
     },
     "execution_count": 14,
     "metadata": {},
     "output_type": "execute_result"
    },
    {
     "data": {
      "image/png": "[encoded data removed]",
      "text/plain": [
       "<Figure size 640x480 with 1 Axes>"
      ]
     },
     "metadata": {},
     "output_type": "display_data"
    }
   ],
   "source": [
    "plt.scatter( all_eval_ts, all_eval_freq)"
   ]
  },
  {
   "cell_type": "code",
   "execution_count": 15,
   "metadata": {},
   "outputs": [
    {
     "ename": "NameError",
     "evalue": "name 'all_eval' is not defined",
     "output_type": "error",
     "traceback": [
      "\u001b[0;31m---------------------------------------------------------------------------\u001b[0m",
      "\u001b[0;31mNameError\u001b[0m                                 Traceback (most recent call last)",
      "\u001b[1;32m/Users/harshagurnani/Documents/GitHub/BCI/fit_multiple.ipynb Cell 15\u001b[0m line \u001b[0;36m1\n\u001b[0;32m----> <a href='vscode-notebook-cell:/Users/harshagurnani/Documents/GitHub/BCI/fit_multiple.ipynb#X11sZmlsZQ%3D%3D?line=0'>1</a>\u001b[0m res  \u001b[39m=\u001b[39m {\u001b[39m'\u001b[39m\u001b[39mall_files\u001b[39m\u001b[39m'\u001b[39m: all_files, \u001b[39m'\u001b[39m\u001b[39msuffix\u001b[39m\u001b[39m'\u001b[39m:suffix, \u001b[39m'\u001b[39m\u001b[39mall_eval\u001b[39m\u001b[39m'\u001b[39m:all_eval }\n\u001b[1;32m      <a href='vscode-notebook-cell:/Users/harshagurnani/Documents/GitHub/BCI/fit_multiple.ipynb#X11sZmlsZQ%3D%3D?line=1'>2</a>\u001b[0m np\u001b[39m.\u001b[39msave( \u001b[39m'\u001b[39m\u001b[39mresults.npy\u001b[39m\u001b[39m'\u001b[39m, res)\n",
      "\u001b[0;31mNameError\u001b[0m: name 'all_eval' is not defined"
     ]
    }
   ],
   "source": [
    "res  = {'all_files': all_files, 'suffix':suffix, 'all_eval':all_eval }\n",
    "np.save( 'results_state_dim_8.npy', res)"
   ]
  },
  {
   "cell_type": "code",
   "execution_count": null,
   "metadata": {},
   "outputs": [],
   "source": []
  },
  {
   "cell_type": "code",
   "execution_count": 16,
   "metadata": {},
   "outputs": [],
   "source": [
    "mod_res = np.load( 'relu_iters_lds12_concat.npy', allow_pickle=True).item()"
   ]
  },
  {
   "cell_type": "code",
   "execution_count": 17,
   "metadata": {},
   "outputs": [
    {
     "data": {
      "text/plain": [
       "dict_keys(['files', 'cev', 'ev', 'lc', 'loss_final', 'nz', 'train_frac', 'maxe1a', 'maxe2a', 'maxe1b', 'maxe2b'])"
      ]
     },
     "execution_count": 17,
     "metadata": {},
     "output_type": "execute_result"
    }
   ],
   "source": [
    "mod_res.keys()"
   ]
  },
  {
   "cell_type": "code",
   "execution_count": 18,
   "metadata": {},
   "outputs": [
    {
     "data": {
      "text/plain": [
       "140"
      ]
     },
     "execution_count": 18,
     "metadata": {},
     "output_type": "execute_result"
    }
   ],
   "source": [
    "len(mod_res['ev'])"
   ]
  },
  {
   "cell_type": "code",
   "execution_count": 19,
   "metadata": {},
   "outputs": [],
   "source": [
    "all_ev_mod = []\n",
    "for jj in range(len(mod_res['ev'])):\n",
    "    if mod_res['cev'][jj]>0.9:\n",
    "        evalue = mod_res['ev'][jj]\n",
    "        ecomp = evalue[np.imag(evalue)>0]\n",
    "        emax = ecomp[np.real(ecomp)==max(np.real(ecomp))]\n",
    "        ereal = np.real(emax)\n",
    "        eimag = np.imag(emax)\n",
    "        all_ev_mod.append(emax)"
   ]
  },
  {
   "cell_type": "code",
   "execution_count": 20,
   "metadata": {},
   "outputs": [
    {
     "data": {
      "text/plain": [
       "[array([-0.10297059+0.10579203j], dtype=complex64),\n",
       " array([-0.10142027+0.10867319j], dtype=complex64),\n",
       " array([-0.09745478+0.12088273j], dtype=complex64),\n",
       " array([-0.10197628+0.12368593j], dtype=complex64),\n",
       " array([-0.09935859+0.12049925j], dtype=complex64),\n",
       " array([-0.11696399+0.09200595j], dtype=complex64),\n",
       " array([-0.09803654+0.12547228j], dtype=complex64),\n",
       " array([-0.10482359+0.10788853j], dtype=complex64),\n",
       " array([-0.10085036+0.10794017j], dtype=complex64),\n",
       " array([-0.0982223+0.11465585j], dtype=complex64),\n",
       " array([-0.12415276+0.08154369j], dtype=complex64),\n",
       " array([-0.10453078+0.10926137j], dtype=complex64),\n",
       " array([-0.11783145+0.09551144j], dtype=complex64),\n",
       " array([-0.11214933+0.10751038j], dtype=complex64),\n",
       " array([-0.14636984+0.05783819j], dtype=complex64),\n",
       " array([-0.09731746+0.10976711j], dtype=complex64),\n",
       " array([-0.11137059+0.10532811j], dtype=complex64),\n",
       " array([-0.11252123+0.09394027j], dtype=complex64),\n",
       " array([-0.11581357+0.10803486j], dtype=complex64),\n",
       " array([-0.10570356+0.11366486j], dtype=complex64),\n",
       " array([-0.1025159+0.10672989j], dtype=complex64),\n",
       " array([-0.09374011+0.11836264j], dtype=complex64),\n",
       " array([-0.09382377+0.12576514j], dtype=complex64),\n",
       " array([-0.10397214+0.10832491j], dtype=complex64),\n",
       " array([-0.10341603+0.12513755j], dtype=complex64),\n",
       " array([-0.0971992+0.10896856j], dtype=complex64),\n",
       " array([-0.1456058+0.09367498j], dtype=complex64),\n",
       " array([-0.16642709+0.10155498j], dtype=complex64),\n",
       " array([-0.13960339+0.10281412j], dtype=complex64),\n",
       " array([-0.17321327+0.1094408j], dtype=complex64),\n",
       " array([-0.13894528+0.10523159j], dtype=complex64),\n",
       " array([-0.1686023+0.0124488j], dtype=complex64),\n",
       " array([-0.97310734+1.1447127j], dtype=complex64),\n",
       " array([-0.1323807+0.10053734j], dtype=complex64),\n",
       " array([-0.12062186+0.11452959j], dtype=complex64),\n",
       " array([-0.12747732+0.11533908j], dtype=complex64),\n",
       " array([-0.15472183+0.09786966j], dtype=complex64),\n",
       " array([-0.39032194+1.095312j], dtype=complex64),\n",
       " array([-0.12282024+0.08520216j], dtype=complex64),\n",
       " array([-0.11738719+0.11312082j], dtype=complex64),\n",
       " array([-0.156984+0.07717595j], dtype=complex64),\n",
       " array([-0.140834+0.09694066j], dtype=complex64),\n",
       " array([-0.12344099+0.10918296j], dtype=complex64),\n",
       " array([-0.53623235+1.4684213j], dtype=complex64),\n",
       " array([-0.13470219+0.08140802j], dtype=complex64),\n",
       " array([-0.1520206+0.08531202j], dtype=complex64),\n",
       " array([-0.12376552+0.11359828j], dtype=complex64),\n",
       " array([-0.1528807+0.05654984j], dtype=complex64),\n",
       " array([-0.19295189+0.09967313j], dtype=complex64),\n",
       " array([-0.15672624+0.07939389j], dtype=complex64),\n",
       " array([-0.1695225+0.11775633j], dtype=complex64),\n",
       " array([-0.14977941+0.04905682j], dtype=complex64),\n",
       " array([-0.13725097+0.09745862j], dtype=complex64),\n",
       " array([-0.13564429+0.09506478j], dtype=complex64),\n",
       " array([-0.11626415+0.11212729j], dtype=complex64),\n",
       " array([-0.1386423+0.09558111j], dtype=complex64),\n",
       " array([-0.12469678+0.09951589j], dtype=complex64),\n",
       " array([-0.14055353+0.11258038j], dtype=complex64),\n",
       " array([-0.12343645+0.10078152j], dtype=complex64),\n",
       " array([-0.13503188+0.09291109j], dtype=complex64),\n",
       " array([-0.19552317+0.00657709j], dtype=complex64),\n",
       " array([-0.16002527+0.05075004j], dtype=complex64),\n",
       " array([-0.13158062+0.09623786j], dtype=complex64),\n",
       " array([-0.13262749+0.10170863j], dtype=complex64),\n",
       " array([-0.12253368+0.10733555j], dtype=complex64),\n",
       " array([-0.15043986+0.0699804j], dtype=complex64),\n",
       " array([-0.16223487+0.05177886j], dtype=complex64),\n",
       " array([-0.20989148+0.08099578j], dtype=complex64),\n",
       " array([-0.14818916+0.103845j], dtype=complex64),\n",
       " array([-0.8544037+1.9168465j], dtype=complex64),\n",
       " array([-0.1217156+0.12205555j], dtype=complex64),\n",
       " array([-0.57950664+1.4850247j], dtype=complex64),\n",
       " array([-0.15587151+0.08850256j], dtype=complex64),\n",
       " array([-0.87567973+1.1124545j], dtype=complex64),\n",
       " array([-0.08190601+0.03227009j], dtype=complex64),\n",
       " array([-0.12473229+0.11061987j], dtype=complex64),\n",
       " array([-0.7772492+1.1199962j], dtype=complex64),\n",
       " array([-0.14399785+0.06258812j], dtype=complex64),\n",
       " array([-0.10842215+0.14437504j], dtype=complex64)]"
      ]
     },
     "execution_count": 20,
     "metadata": {},
     "output_type": "execute_result"
    }
   ],
   "source": [
    "all_ev_mod"
   ]
  },
  {
   "cell_type": "code",
   "execution_count": 29,
   "metadata": {},
   "outputs": [
    {
     "data": {
      "image/png": "[encoded data removed]",
      "text/plain": [
       "<Figure size 640x480 with 1 Axes>"
      ]
     },
     "metadata": {},
     "output_type": "display_data"
    }
   ],
   "source": [
    "plt.figure\n",
    "plt.plot([0.1,0.1],[0,5],'k--')\n",
    "plt.plot([1/40,1/40],[0,5],'k--')\n",
    "plt.scatter(-0.1/np.log(1+np.real(all_ev_mod)), np.imag(all_ev_mod)/0.1,color='r',alpha=0.2, label='model')\n",
    "#plt.scatter(-0.1/np.log(1+np.real(all_eval)), np.imag(all_eval)/(1/40),color='k', label='data')\n",
    "plt.scatter( all_eval_ts, all_eval_freq, color='k',alpha=0.2, label='data')\n",
    "plt.xlim([0,2])\n",
    "plt.ylim([-.2,5])\n",
    "plt.xlabel('decay tau (s)')\n",
    "plt.ylabel('frequency (hz)')\n",
    "plt.savefig('all_eval.png')\n",
    "plt.savefig('all_eval.svg')\n"
   ]
  },
  {
   "cell_type": "code",
   "execution_count": null,
   "metadata": {},
   "outputs": [],
   "source": []
  },
  {
   "cell_type": "code",
   "execution_count": 22,
   "metadata": {},
   "outputs": [
    {
     "name": "stderr",
     "output_type": "stream",
     "text": [
      "/Users/harshagurnani/Documents/GitHub/ssm/ssm_fit/lib/python3.10/site-packages/sklearn/cluster/_kmeans.py:1416: FutureWarning: The default value of `n_init` will change from 10 to 'auto' in 1.4. Set the value of `n_init` explicitly to suppress the warning\n",
      "  super()._check_params_vs_input(X, default_n_init=10)\n",
      "ARHMM Initialization restarts:   0%|          | 0/1 [00:00<?, ?it/s]"
     ]
    },
    {
     "name": "stdout",
     "output_type": "stream",
     "text": [
      "Initializing with an ARHMM using 25 steps of EM.\n"
     ]
    },
    {
     "name": "stderr",
     "output_type": "stream",
     "text": [
      "LP: -53683.1: 100%|██████████| 25/25 [00:02<00:00, 11.12it/s]\n",
      "ARHMM Initialization restarts: 100%|██████████| 1/1 [00:02<00:00,  2.33s/it]\n",
      "ELBO: -147337.5: 100%|██████████| 20/20 [00:40<00:00,  2.01s/it]\n",
      "/Users/harshagurnani/Documents/GitHub/ssm/ssm_fit/lib/python3.10/site-packages/sklearn/cluster/_kmeans.py:1416: FutureWarning: The default value of `n_init` will change from 10 to 'auto' in 1.4. Set the value of `n_init` explicitly to suppress the warning\n",
      "  super()._check_params_vs_input(X, default_n_init=10)\n",
      "ARHMM Initialization restarts:   0%|          | 0/1 [00:00<?, ?it/s]"
     ]
    },
    {
     "name": "stdout",
     "output_type": "stream",
     "text": [
      "Initializing with an ARHMM using 25 steps of EM.\n"
     ]
    },
    {
     "name": "stderr",
     "output_type": "stream",
     "text": [
      "LP: -38967.3: 100%|██████████| 25/25 [00:02<00:00, 11.26it/s]\n",
      "ARHMM Initialization restarts: 100%|██████████| 1/1 [00:02<00:00,  2.45s/it]\n",
      "ELBO: -189073.3: 100%|██████████| 20/20 [00:44<00:00,  2.25s/it]\n",
      "/Users/harshagurnani/Documents/GitHub/ssm/ssm_fit/lib/python3.10/site-packages/sklearn/cluster/_kmeans.py:1416: FutureWarning: The default value of `n_init` will change from 10 to 'auto' in 1.4. Set the value of `n_init` explicitly to suppress the warning\n",
      "  super()._check_params_vs_input(X, default_n_init=10)\n",
      "ARHMM Initialization restarts:   0%|          | 0/1 [00:00<?, ?it/s]"
     ]
    },
    {
     "name": "stdout",
     "output_type": "stream",
     "text": [
      "Initializing with an ARHMM using 25 steps of EM.\n"
     ]
    },
    {
     "name": "stderr",
     "output_type": "stream",
     "text": [
      "LP: -38227.4: 100%|██████████| 25/25 [00:02<00:00,  9.67it/s]\n",
      "ARHMM Initialization restarts: 100%|██████████| 1/1 [00:02<00:00,  2.80s/it]\n",
      "ELBO: -106287.5: 100%|██████████| 20/20 [00:34<00:00,  1.74s/it]\n",
      "/Users/harshagurnani/Documents/GitHub/ssm/ssm_fit/lib/python3.10/site-packages/sklearn/cluster/_kmeans.py:1416: FutureWarning: The default value of `n_init` will change from 10 to 'auto' in 1.4. Set the value of `n_init` explicitly to suppress the warning\n",
      "  super()._check_params_vs_input(X, default_n_init=10)\n",
      "ARHMM Initialization restarts:   0%|          | 0/1 [00:00<?, ?it/s]"
     ]
    },
    {
     "name": "stdout",
     "output_type": "stream",
     "text": [
      "Initializing with an ARHMM using 25 steps of EM.\n"
     ]
    },
    {
     "name": "stderr",
     "output_type": "stream",
     "text": [
      "LP: -44731.7: 100%|██████████| 25/25 [00:02<00:00,  9.14it/s]\n",
      "ARHMM Initialization restarts: 100%|██████████| 1/1 [00:02<00:00,  2.86s/it]\n",
      "ELBO: -245714.3: 100%|██████████| 20/20 [00:43<00:00,  2.19s/it]\n",
      "/Users/harshagurnani/Documents/GitHub/ssm/ssm_fit/lib/python3.10/site-packages/sklearn/cluster/_kmeans.py:1416: FutureWarning: The default value of `n_init` will change from 10 to 'auto' in 1.4. Set the value of `n_init` explicitly to suppress the warning\n",
      "  super()._check_params_vs_input(X, default_n_init=10)\n",
      "ARHMM Initialization restarts:   0%|          | 0/1 [00:00<?, ?it/s]"
     ]
    },
    {
     "name": "stdout",
     "output_type": "stream",
     "text": [
      "Initializing with an ARHMM using 25 steps of EM.\n"
     ]
    },
    {
     "name": "stderr",
     "output_type": "stream",
     "text": [
      "LP: -100118.8: 100%|██████████| 25/25 [00:04<00:00,  5.15it/s]\n",
      "ARHMM Initialization restarts: 100%|██████████| 1/1 [00:05<00:00,  5.03s/it]\n",
      "ELBO: -257168.6: 100%|██████████| 20/20 [00:52<00:00,  2.63s/it]\n",
      "/Users/harshagurnani/Documents/GitHub/ssm/ssm_fit/lib/python3.10/site-packages/sklearn/cluster/_kmeans.py:1416: FutureWarning: The default value of `n_init` will change from 10 to 'auto' in 1.4. Set the value of `n_init` explicitly to suppress the warning\n",
      "  super()._check_params_vs_input(X, default_n_init=10)\n",
      "ARHMM Initialization restarts:   0%|          | 0/1 [00:00<?, ?it/s]"
     ]
    },
    {
     "name": "stdout",
     "output_type": "stream",
     "text": [
      "Initializing with an ARHMM using 25 steps of EM.\n"
     ]
    },
    {
     "name": "stderr",
     "output_type": "stream",
     "text": [
      "LP: -62954.9: 100%|██████████| 25/25 [00:02<00:00,  9.66it/s]\n",
      "ARHMM Initialization restarts: 100%|██████████| 1/1 [00:02<00:00,  2.77s/it]\n",
      "ELBO: -139107.8: 100%|██████████| 20/20 [00:37<00:00,  1.88s/it]\n",
      "/Users/harshagurnani/Documents/GitHub/ssm/ssm_fit/lib/python3.10/site-packages/sklearn/cluster/_kmeans.py:1416: FutureWarning: The default value of `n_init` will change from 10 to 'auto' in 1.4. Set the value of `n_init` explicitly to suppress the warning\n",
      "  super()._check_params_vs_input(X, default_n_init=10)\n",
      "ARHMM Initialization restarts:   0%|          | 0/1 [00:00<?, ?it/s]"
     ]
    },
    {
     "name": "stdout",
     "output_type": "stream",
     "text": [
      "Initializing with an ARHMM using 25 steps of EM.\n"
     ]
    },
    {
     "name": "stderr",
     "output_type": "stream",
     "text": [
      "LP: -368057.2: 100%|██████████| 25/25 [00:05<00:00,  4.33it/s]\n",
      "ARHMM Initialization restarts: 100%|██████████| 1/1 [00:06<00:00,  6.10s/it]\n",
      "ELBO: -213140.0: 100%|██████████| 20/20 [01:39<00:00,  4.95s/it]\n",
      "/var/folders/sb/xhp3vl193vxd7sv2_2mykkq80000gn/T/ipykernel_70548/2921671694.py:15: RuntimeWarning: invalid value encountered in log\n",
      "  eval_ts_noinp.append( -(1/newrates[jj])/np.log(1+np.real(ee)) )\n",
      "/Users/harshagurnani/Documents/GitHub/ssm/ssm_fit/lib/python3.10/site-packages/sklearn/cluster/_kmeans.py:1416: FutureWarning: The default value of `n_init` will change from 10 to 'auto' in 1.4. Set the value of `n_init` explicitly to suppress the warning\n",
      "  super()._check_params_vs_input(X, default_n_init=10)\n",
      "ARHMM Initialization restarts:   0%|          | 0/1 [00:00<?, ?it/s]"
     ]
    },
    {
     "name": "stdout",
     "output_type": "stream",
     "text": [
      "Initializing with an ARHMM using 25 steps of EM.\n"
     ]
    },
    {
     "name": "stderr",
     "output_type": "stream",
     "text": [
      "LP: -51235.2: 100%|██████████| 25/25 [00:02<00:00,  9.17it/s]\n",
      "ARHMM Initialization restarts: 100%|██████████| 1/1 [00:02<00:00,  2.93s/it]\n",
      "ELBO: -32640.5: 100%|██████████| 20/20 [00:33<00:00,  1.68s/it]\n",
      "/var/folders/sb/xhp3vl193vxd7sv2_2mykkq80000gn/T/ipykernel_70548/2921671694.py:15: RuntimeWarning: invalid value encountered in log\n",
      "  eval_ts_noinp.append( -(1/newrates[jj])/np.log(1+np.real(ee)) )\n",
      "/Users/harshagurnani/Documents/GitHub/ssm/ssm_fit/lib/python3.10/site-packages/sklearn/cluster/_kmeans.py:1416: FutureWarning: The default value of `n_init` will change from 10 to 'auto' in 1.4. Set the value of `n_init` explicitly to suppress the warning\n",
      "  super()._check_params_vs_input(X, default_n_init=10)\n",
      "ARHMM Initialization restarts:   0%|          | 0/1 [00:00<?, ?it/s]"
     ]
    },
    {
     "name": "stdout",
     "output_type": "stream",
     "text": [
      "Initializing with an ARHMM using 25 steps of EM.\n"
     ]
    },
    {
     "name": "stderr",
     "output_type": "stream",
     "text": [
      "LP: -176647.6: 100%|██████████| 25/25 [00:04<00:00,  5.36it/s]\n",
      "ARHMM Initialization restarts: 100%|██████████| 1/1 [00:04<00:00,  4.91s/it]\n",
      "ELBO: -105018.8: 100%|██████████| 20/20 [01:07<00:00,  3.38s/it]\n",
      "/var/folders/sb/xhp3vl193vxd7sv2_2mykkq80000gn/T/ipykernel_70548/2921671694.py:15: RuntimeWarning: invalid value encountered in log\n",
      "  eval_ts_noinp.append( -(1/newrates[jj])/np.log(1+np.real(ee)) )\n",
      "/Users/harshagurnani/Documents/GitHub/ssm/ssm_fit/lib/python3.10/site-packages/sklearn/cluster/_kmeans.py:1416: FutureWarning: The default value of `n_init` will change from 10 to 'auto' in 1.4. Set the value of `n_init` explicitly to suppress the warning\n",
      "  super()._check_params_vs_input(X, default_n_init=10)\n",
      "ARHMM Initialization restarts:   0%|          | 0/1 [00:00<?, ?it/s]"
     ]
    },
    {
     "name": "stdout",
     "output_type": "stream",
     "text": [
      "Initializing with an ARHMM using 25 steps of EM.\n"
     ]
    },
    {
     "name": "stderr",
     "output_type": "stream",
     "text": [
      "LP: -149968.7: 100%|██████████| 25/25 [00:04<00:00,  5.43it/s]\n",
      "ARHMM Initialization restarts: 100%|██████████| 1/1 [00:04<00:00,  4.81s/it]\n",
      "ELBO: -73382.7: 100%|██████████| 20/20 [01:09<00:00,  3.46s/it]\n",
      "/var/folders/sb/xhp3vl193vxd7sv2_2mykkq80000gn/T/ipykernel_70548/2921671694.py:15: RuntimeWarning: invalid value encountered in log\n",
      "  eval_ts_noinp.append( -(1/newrates[jj])/np.log(1+np.real(ee)) )\n"
     ]
    }
   ],
   "source": [
    "all_eval_freq_noinp=[]     # frequency\n",
    "all_eval_ts_noinp = []     # timescale\n",
    "eval_ts_noinp = []    # timescale\n",
    "\n",
    "#use_trials  = np.arange(100)\n",
    "for jj in range(len(all_files)):\n",
    "    dic_new = lt.fit_LDS( all_files[jj], acqRate=acqrates[jj], newRate=newrates[jj], state_dim=state_dim, emission='poisson',\n",
    "                          save_suffix = suffix[jj]+'_noinp', use_trials=np.arange(use_trial[jj]),\n",
    "                          use_inp=False)\n",
    "    A = dic_new['lds'].dynamics.A\n",
    "    evalue, evecs = np.linalg.eig( A- np.eye(A.shape[0]))\n",
    "    ecomp = evalue[np.imag(evalue)>0]\n",
    "    ereal = evalue[np.imag(evalue)>=0]\n",
    "    for ee in ereal:\n",
    "        eval_ts_noinp.append( -(1/newrates[jj])/np.log(1+np.real(ee)) )\n",
    "    if len(ecomp)>0:\n",
    "        emax = ecomp[np.real(ecomp)==max(np.real(ecomp))]\n",
    "        all_eval_freq_noinp.append( np.imag(emax)/(1/newrates[jj]) )\n",
    "        all_eval_ts_noinp.append( -(1/newrates[jj])/np.log(1+np.real(emax)) )\n"
   ]
  },
  {
   "cell_type": "code",
   "execution_count": 23,
   "metadata": {},
   "outputs": [
    {
     "data": {
      "image/png": "[encoded data removed]",
      "text/plain": [
       "<Figure size 640x480 with 1 Axes>"
      ]
     },
     "metadata": {},
     "output_type": "display_data"
    }
   ],
   "source": [
    "plt.figure\n",
    "plt.plot([0.1,0.1],[0,5],'k--')\n",
    "plt.plot([1/40,1/40],[0,5],'k--')\n",
    "plt.scatter(-0.1/np.log(1+np.real(all_ev_mod)), np.imag(all_ev_mod)/0.1,color='r',alpha=0.2, label='model')\n",
    "plt.scatter( all_eval_ts_noinp, all_eval_freq_noinp, color='k', label='data')\n",
    "plt.xlim([0,2])\n",
    "plt.ylim([-.2,5])\n",
    "plt.xlabel('decay tau (s)')\n",
    "plt.ylabel('frequency (hz)')\n",
    "plt.savefig('all_eval_noinp.png')\n",
    "plt.savefig('all_eval_noinp.svg')"
   ]
  },
  {
   "cell_type": "code",
   "execution_count": 24,
   "metadata": {},
   "outputs": [
    {
     "data": {
      "text/plain": [
       "array([], shape=(1, 8, 0), dtype=float64)"
      ]
     },
     "execution_count": 24,
     "metadata": {},
     "output_type": "execute_result"
    }
   ],
   "source": [
    "dic_new['lds'].dynamics.Vs"
   ]
  },
  {
   "cell_type": "code",
   "execution_count": 25,
   "metadata": {},
   "outputs": [
    {
     "name": "stderr",
     "output_type": "stream",
     "text": [
      "/Users/harshagurnani/Documents/GitHub/ssm/ssm_fit/lib/python3.10/site-packages/sklearn/cluster/_kmeans.py:1416: FutureWarning: The default value of `n_init` will change from 10 to 'auto' in 1.4. Set the value of `n_init` explicitly to suppress the warning\n",
      "  super()._check_params_vs_input(X, default_n_init=10)\n",
      "ARHMM Initialization restarts:   0%|          | 0/1 [00:00<?, ?it/s]"
     ]
    },
    {
     "name": "stdout",
     "output_type": "stream",
     "text": [
      "Initializing with an ARHMM using 25 steps of EM.\n"
     ]
    },
    {
     "name": "stderr",
     "output_type": "stream",
     "text": [
      "LP: -53242.3: 100%|██████████| 25/25 [00:03<00:00,  8.11it/s]\n",
      "ARHMM Initialization restarts: 100%|██████████| 1/1 [00:03<00:00,  3.16s/it]\n",
      "ELBO: -147205.5: 100%|██████████| 20/20 [00:33<00:00,  1.66s/it]\n",
      "/Users/harshagurnani/Documents/GitHub/ssm/ssm_fit/lib/python3.10/site-packages/sklearn/cluster/_kmeans.py:1416: FutureWarning: The default value of `n_init` will change from 10 to 'auto' in 1.4. Set the value of `n_init` explicitly to suppress the warning\n",
      "  super()._check_params_vs_input(X, default_n_init=10)\n",
      "ARHMM Initialization restarts:   0%|          | 0/1 [00:00<?, ?it/s]"
     ]
    },
    {
     "name": "stdout",
     "output_type": "stream",
     "text": [
      "Initializing with an ARHMM using 25 steps of EM.\n"
     ]
    },
    {
     "name": "stderr",
     "output_type": "stream",
     "text": [
      "LP: -38012.1: 100%|██████████| 25/25 [00:03<00:00,  6.92it/s]\n",
      "ARHMM Initialization restarts: 100%|██████████| 1/1 [00:03<00:00,  3.71s/it]\n",
      "ELBO: -188928.7: 100%|██████████| 20/20 [00:43<00:00,  2.15s/it]\n",
      "/var/folders/sb/xhp3vl193vxd7sv2_2mykkq80000gn/T/ipykernel_70548/3908295789.py:15: RuntimeWarning: invalid value encountered in log\n",
      "  eval_ts_nofb.append( -(1/newrates[jj])/np.log(1+np.real(ee)) )\n",
      "/Users/harshagurnani/Documents/GitHub/ssm/ssm_fit/lib/python3.10/site-packages/sklearn/cluster/_kmeans.py:1416: FutureWarning: The default value of `n_init` will change from 10 to 'auto' in 1.4. Set the value of `n_init` explicitly to suppress the warning\n",
      "  super()._check_params_vs_input(X, default_n_init=10)\n",
      "ARHMM Initialization restarts:   0%|          | 0/1 [00:00<?, ?it/s]"
     ]
    },
    {
     "name": "stdout",
     "output_type": "stream",
     "text": [
      "Initializing with an ARHMM using 25 steps of EM.\n"
     ]
    },
    {
     "name": "stderr",
     "output_type": "stream",
     "text": [
      "LP: -37899.7: 100%|██████████| 25/25 [00:03<00:00,  6.49it/s]\n",
      "ARHMM Initialization restarts: 100%|██████████| 1/1 [00:03<00:00,  3.91s/it]\n",
      "ELBO: -106371.0: 100%|██████████| 20/20 [00:31<00:00,  1.60s/it]\n",
      "/Users/harshagurnani/Documents/GitHub/ssm/ssm_fit/lib/python3.10/site-packages/sklearn/cluster/_kmeans.py:1416: FutureWarning: The default value of `n_init` will change from 10 to 'auto' in 1.4. Set the value of `n_init` explicitly to suppress the warning\n",
      "  super()._check_params_vs_input(X, default_n_init=10)\n",
      "ARHMM Initialization restarts:   0%|          | 0/1 [00:00<?, ?it/s]"
     ]
    },
    {
     "name": "stdout",
     "output_type": "stream",
     "text": [
      "Initializing with an ARHMM using 25 steps of EM.\n"
     ]
    },
    {
     "name": "stderr",
     "output_type": "stream",
     "text": [
      "LP: -44164.1: 100%|██████████| 25/25 [00:03<00:00,  6.46it/s]\n",
      "ARHMM Initialization restarts: 100%|██████████| 1/1 [00:04<00:00,  4.12s/it]\n",
      "ELBO: -245497.4: 100%|██████████| 20/20 [00:45<00:00,  2.26s/it]\n",
      "/var/folders/sb/xhp3vl193vxd7sv2_2mykkq80000gn/T/ipykernel_70548/3908295789.py:15: RuntimeWarning: invalid value encountered in log\n",
      "  eval_ts_nofb.append( -(1/newrates[jj])/np.log(1+np.real(ee)) )\n",
      "/Users/harshagurnani/Documents/GitHub/ssm/ssm_fit/lib/python3.10/site-packages/sklearn/cluster/_kmeans.py:1416: FutureWarning: The default value of `n_init` will change from 10 to 'auto' in 1.4. Set the value of `n_init` explicitly to suppress the warning\n",
      "  super()._check_params_vs_input(X, default_n_init=10)\n",
      "ARHMM Initialization restarts:   0%|          | 0/1 [00:00<?, ?it/s]"
     ]
    },
    {
     "name": "stdout",
     "output_type": "stream",
     "text": [
      "Initializing with an ARHMM using 25 steps of EM.\n"
     ]
    },
    {
     "name": "stderr",
     "output_type": "stream",
     "text": [
      "LP: -99820.6: 100%|██████████| 25/25 [00:05<00:00,  4.97it/s]\n",
      "ARHMM Initialization restarts: 100%|██████████| 1/1 [00:05<00:00,  5.16s/it]\n",
      "ELBO: -257764.7: 100%|██████████| 20/20 [00:55<00:00,  2.76s/it]\n",
      "/Users/harshagurnani/Documents/GitHub/ssm/ssm_fit/lib/python3.10/site-packages/sklearn/cluster/_kmeans.py:1416: FutureWarning: The default value of `n_init` will change from 10 to 'auto' in 1.4. Set the value of `n_init` explicitly to suppress the warning\n",
      "  super()._check_params_vs_input(X, default_n_init=10)\n",
      "ARHMM Initialization restarts:   0%|          | 0/1 [00:00<?, ?it/s]"
     ]
    },
    {
     "name": "stdout",
     "output_type": "stream",
     "text": [
      "Initializing with an ARHMM using 25 steps of EM.\n"
     ]
    },
    {
     "name": "stderr",
     "output_type": "stream",
     "text": [
      "LP: -61888.0: 100%|██████████| 25/25 [00:03<00:00,  7.05it/s]\n",
      "ARHMM Initialization restarts: 100%|██████████| 1/1 [00:03<00:00,  3.70s/it]\n",
      "ELBO: -138955.8: 100%|██████████| 20/20 [00:40<00:00,  2.04s/it]\n",
      "/Users/harshagurnani/Documents/GitHub/ssm/ssm_fit/lib/python3.10/site-packages/sklearn/cluster/_kmeans.py:1416: FutureWarning: The default value of `n_init` will change from 10 to 'auto' in 1.4. Set the value of `n_init` explicitly to suppress the warning\n",
      "  super()._check_params_vs_input(X, default_n_init=10)\n",
      "ARHMM Initialization restarts:   0%|          | 0/1 [00:00<?, ?it/s]"
     ]
    },
    {
     "name": "stdout",
     "output_type": "stream",
     "text": [
      "Initializing with an ARHMM using 25 steps of EM.\n"
     ]
    },
    {
     "name": "stderr",
     "output_type": "stream",
     "text": [
      "LP: -361071.2: 100%|██████████| 25/25 [00:07<00:00,  3.48it/s]\n",
      "ARHMM Initialization restarts: 100%|██████████| 1/1 [00:07<00:00,  7.48s/it]\n",
      "ELBO: -212959.1: 100%|██████████| 20/20 [01:43<00:00,  5.19s/it]\n",
      "/var/folders/sb/xhp3vl193vxd7sv2_2mykkq80000gn/T/ipykernel_70548/3908295789.py:15: RuntimeWarning: invalid value encountered in log\n",
      "  eval_ts_nofb.append( -(1/newrates[jj])/np.log(1+np.real(ee)) )\n",
      "/Users/harshagurnani/Documents/GitHub/ssm/ssm_fit/lib/python3.10/site-packages/sklearn/cluster/_kmeans.py:1416: FutureWarning: The default value of `n_init` will change from 10 to 'auto' in 1.4. Set the value of `n_init` explicitly to suppress the warning\n",
      "  super()._check_params_vs_input(X, default_n_init=10)\n",
      "ARHMM Initialization restarts:   0%|          | 0/1 [00:00<?, ?it/s]"
     ]
    },
    {
     "name": "stdout",
     "output_type": "stream",
     "text": [
      "Initializing with an ARHMM using 25 steps of EM.\n"
     ]
    },
    {
     "name": "stderr",
     "output_type": "stream",
     "text": [
      "LP: -50139.2: 100%|██████████| 25/25 [00:04<00:00,  5.51it/s]\n",
      "ARHMM Initialization restarts: 100%|██████████| 1/1 [00:04<00:00,  4.71s/it]\n",
      "ELBO: -32402.5: 100%|██████████| 20/20 [00:34<00:00,  1.72s/it]\n",
      "/var/folders/sb/xhp3vl193vxd7sv2_2mykkq80000gn/T/ipykernel_70548/3908295789.py:15: RuntimeWarning: invalid value encountered in log\n",
      "  eval_ts_nofb.append( -(1/newrates[jj])/np.log(1+np.real(ee)) )\n",
      "/Users/harshagurnani/Documents/GitHub/ssm/ssm_fit/lib/python3.10/site-packages/sklearn/cluster/_kmeans.py:1416: FutureWarning: The default value of `n_init` will change from 10 to 'auto' in 1.4. Set the value of `n_init` explicitly to suppress the warning\n",
      "  super()._check_params_vs_input(X, default_n_init=10)\n",
      "ARHMM Initialization restarts:   0%|          | 0/1 [00:00<?, ?it/s]"
     ]
    },
    {
     "name": "stdout",
     "output_type": "stream",
     "text": [
      "Initializing with an ARHMM using 25 steps of EM.\n"
     ]
    },
    {
     "name": "stderr",
     "output_type": "stream",
     "text": [
      "LP: -175098.0: 100%|██████████| 25/25 [00:05<00:00,  4.47it/s]\n",
      "ARHMM Initialization restarts: 100%|██████████| 1/1 [00:05<00:00,  5.81s/it]\n",
      "ELBO: -104583.4: 100%|██████████| 20/20 [01:10<00:00,  3.51s/it]\n",
      "/var/folders/sb/xhp3vl193vxd7sv2_2mykkq80000gn/T/ipykernel_70548/3908295789.py:15: RuntimeWarning: invalid value encountered in log\n",
      "  eval_ts_nofb.append( -(1/newrates[jj])/np.log(1+np.real(ee)) )\n",
      "/Users/harshagurnani/Documents/GitHub/ssm/ssm_fit/lib/python3.10/site-packages/sklearn/cluster/_kmeans.py:1416: FutureWarning: The default value of `n_init` will change from 10 to 'auto' in 1.4. Set the value of `n_init` explicitly to suppress the warning\n",
      "  super()._check_params_vs_input(X, default_n_init=10)\n",
      "ARHMM Initialization restarts:   0%|          | 0/1 [00:00<?, ?it/s]"
     ]
    },
    {
     "name": "stdout",
     "output_type": "stream",
     "text": [
      "Initializing with an ARHMM using 25 steps of EM.\n"
     ]
    },
    {
     "name": "stderr",
     "output_type": "stream",
     "text": [
      "LP: -147364.3: 100%|██████████| 25/25 [00:05<00:00,  4.36it/s]\n",
      "ARHMM Initialization restarts: 100%|██████████| 1/1 [00:06<00:00,  6.05s/it]\n",
      "ELBO: -73814.8: 100%|██████████| 20/20 [01:11<00:00,  3.60s/it]\n",
      "/var/folders/sb/xhp3vl193vxd7sv2_2mykkq80000gn/T/ipykernel_70548/3908295789.py:15: RuntimeWarning: invalid value encountered in log\n",
      "  eval_ts_nofb.append( -(1/newrates[jj])/np.log(1+np.real(ee)) )\n"
     ]
    }
   ],
   "source": [
    "all_eval_freq_nofb=[]     # frequency\n",
    "all_eval_ts_nofb = []     # timescale\n",
    "eval_ts_nofb = []    # timescale\n",
    "\n",
    "#use_trials  = np.arange(100)\n",
    "for jj in range(len(all_files)):\n",
    "    dic_new = lt.fit_LDS( all_files[jj], acqRate=acqrates[jj], newRate=newrates[jj], state_dim=state_dim, emission='poisson',\n",
    "                          save_suffix = suffix[jj]+'_nofb', use_trials=np.arange(use_trial[jj]),\n",
    "                          use_fb=False)\n",
    "    A = dic_new['lds'].dynamics.A\n",
    "    evalue, evecs = np.linalg.eig( A- np.eye(A.shape[0]))\n",
    "    ecomp = evalue[np.imag(evalue)>0]\n",
    "    ereal = evalue[np.imag(evalue)>=0]\n",
    "    for ee in ereal:\n",
    "        eval_ts_nofb.append( -(1/newrates[jj])/np.log(1+np.real(ee)) )\n",
    "    if len(ecomp)>0:\n",
    "        emax = ecomp[np.real(ecomp)==max(np.real(ecomp))]\n",
    "        all_eval_freq_nofb.append( np.imag(emax)/(1/newrates[jj]) )\n",
    "        all_eval_ts_nofb.append( -(1/newrates[jj])/np.log(1+np.real(emax)) )\n"
   ]
  },
  {
   "cell_type": "code",
   "execution_count": 26,
   "metadata": {},
   "outputs": [
    {
     "data": {
      "image/png": "[encoded data removed]",
      "text/plain": [
       "<Figure size 640x480 with 1 Axes>"
      ]
     },
     "metadata": {},
     "output_type": "display_data"
    }
   ],
   "source": [
    "plt.figure\n",
    "plt.plot([0.1,0.1],[0,5],'k--')\n",
    "plt.plot([1/40,1/40],[0,5],'k--')\n",
    "plt.scatter(-0.1/np.log(1+np.real(all_ev_mod)), np.imag(all_ev_mod)/0.1,color='r',alpha=0.2, label='model')\n",
    "plt.scatter( all_eval_ts_nofb, all_eval_freq_nofb, color='k', label='data')\n",
    "plt.xlim([0,2])\n",
    "plt.ylim([-.2,5])\n",
    "plt.xlabel('decay tau (s)')\n",
    "plt.ylabel('frequency (hz)')\n",
    "plt.savefig('all_eval_nofb.png')\n",
    "plt.savefig('all_eval_nofb.svg')"
   ]
  },
  {
   "cell_type": "code",
   "execution_count": null,
   "metadata": {},
   "outputs": [],
   "source": []
  },
  {
   "cell_type": "code",
   "execution_count": null,
   "metadata": {},
   "outputs": [],
   "source": []
  }
 ],
 "metadata": {
  "kernelspec": {
   "display_name": "ssm_fit",
   "language": "python",
   "name": "python3"
  },
  "language_info": {
   "codemirror_mode": {
    "name": "ipython",
    "version": 3
   },
   "file_extension": ".py",
   "mimetype": "text/x-python",
   "name": "python",
   "nbconvert_exporter": "python",
   "pygments_lexer": "ipython3",
   "version": "3.10.9"
  }
 },
 "nbformat": 4,
 "nbformat_minor": 2
}
