{
 "cells": [
  {
   "cell_type": "code",
   "execution_count": null,
   "metadata": {},
   "outputs": [],
   "source": [
    "import data_loaders as dl\n",
    "import numpy as np\n",
    "import math\n",
    "import matplotlib.pyplot as plt"
   ]
  },
  {
   "cell_type": "code",
   "execution_count": null,
   "metadata": {},
   "outputs": [],
   "source": [
    "import pynwb\n",
    "from pynwb import NWBHDF5IO, NWBFile, TimeSeries"
   ]
  },
  {
   "cell_type": "code",
   "execution_count": null,
   "metadata": {},
   "outputs": [],
   "source": [
    "import autograd.numpy as np\n",
    "import autograd.numpy.random as npr\n",
    "npr.seed(0)\n",
    "\n",
    "import matplotlib.pyplot as plt\n",
    "%matplotlib inline\n",
    "\n",
    "from matplotlib.gridspec import GridSpec\n",
    "\n",
    "import seaborn as sns\n",
    "sns.set_style(\"white\")\n",
    "sns.set_context(\"talk\")\n",
    "\n",
    "color_names = [\"windows blue\",\n",
    "               \"red\",\n",
    "               \"amber\",\n",
    "               \"faded green\",\n",
    "               \"dusty purple\",\n",
    "               \"orange\",\n",
    "               \"clay\",\n",
    "               \"pink\",\n",
    "               \"greyish\",\n",
    "               \"mint\",\n",
    "               \"light cyan\",\n",
    "               \"steel blue\",\n",
    "               \"forest green\",\n",
    "               \"pastel purple\",\n",
    "               \"salmon\",\n",
    "               \"dark brown\"]\n",
    "\n",
    "colors = sns.xkcd_palette(color_names)\n",
    "\n",
    "import ssm\n",
    "from ssm.util import random_rotation\n",
    "from ssm.plots import plot_dynamics_2d"
   ]
  },
  {
   "cell_type": "code",
   "execution_count": null,
   "metadata": {},
   "outputs": [],
   "source": [
    "from sklearn.model_selection import train_test_split"
   ]
  },
  {
   "cell_type": "markdown",
   "metadata": {},
   "source": [
    "## One file"
   ]
  },
  {
   "cell_type": "code",
   "execution_count": null,
   "metadata": {},
   "outputs": [],
   "source": [
    "file_name='Data/sub-monk-g_ses-session4.nwb'#'Data/sub-monk-j_ses-session0.nwb'\n",
    "newRate = 10#Hz\n",
    "acqRate =60#Hz\n",
    "nTrials = 62\n",
    "use_trials=np.arange(nTrials)\n",
    "\n",
    "input_dim = 4\n",
    "state_dim = 4\n",
    "testfrac = 0.1"
   ]
  },
  {
   "cell_type": "code",
   "execution_count": null,
   "metadata": {},
   "outputs": [],
   "source": [
    "fig1 = plt.figure()\n",
    "ax = fig1.add_subplot(111)\n",
    "etrain = []\n",
    "etest = []\n",
    "\n",
    "for iter in range(5):\n",
    "    np.random.seed()\n",
    "    newTrials = np.random.permutation(nTrials)\n",
    "    obs, inputs, pos = dl.getData_for_LDS(file_name, acqRate=acqRate, newRate=newRate, vis=True, use_trials=newTrials )\n",
    "\n",
    "    ## split into train test:\n",
    "    obs_train, obs_test, inp_train, inp_test = train_test_split( obs, inputs, test_size=testfrac)\n",
    "    \n",
    "    # Known paramters\n",
    "    time_bins = obs.shape[0]\n",
    "    obs_dim = obs.shape[1]\n",
    "\n",
    "    ### fit on training data:\n",
    "    lds_inp = ssm.LDS(obs_dim, state_dim, M=input_dim, emissions=\"poisson\")\n",
    "    elbos, q = lds_inp.fit((obs_train).astype(int), inputs=inp_train, num_iters=20)\n",
    "    etrain.append(elbos[-1]/(obs_train.shape[0]*obs_train.shape[1]))\n",
    "\n",
    "\n",
    "    # eigenvalues of dynamics:\n",
    "    A = lds_inp.dynamics.A\n",
    "    eigenvalues, eigenvectors = np.linalg.eig(A-np.eye(A.shape[0]))\n",
    "    ax.scatter( np.real(eigenvalues), np.imag(eigenvalues), alpha=0.3)\n",
    "\n",
    "    elbos2, posterior = lds_inp.approximate_posterior( (obs_test).astype(int), inputs=inp_test )\n",
    "    etest.append(elbos2[-1]/(obs_test.shape[0]*obs_test.shape[1]))\n",
    "\n",
    "\n",
    "\n",
    "ax.plot([0,0],[-.1,.1],'k--')\n"
   ]
  }
 ],
 "metadata": {
  "language_info": {
   "name": "python"
  }
 },
 "nbformat": 4,
 "nbformat_minor": 2
}
